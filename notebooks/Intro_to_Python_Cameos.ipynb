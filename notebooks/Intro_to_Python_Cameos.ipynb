{
 "cells": [
  {
   "cell_type": "code",
   "execution_count": 1,
   "id": "6307e491",
   "metadata": {
    "collapsed": false
   },
   "outputs": [],
   "source": [
    "%load_ext autoreload\n",
    "%autoreload 2"
   ]
  },
  {
   "cell_type": "code",
   "execution_count": 30,
   "id": "c6948d0d",
   "metadata": {
    "collapsed": false
   },
   "outputs": [],
   "source": [
    "%matplotlib inline\n",
    "import matplotlib.pyplot as plt\n",
    "\n",
    "from pathlib import Path\n",
    "import pandas as pd\n",
    "import numpy as np\n",
    "from tqdm import tqdm\n",
    "\n",
    "import torch\n",
    "from torch import nn\n",
    "\n",
    "# load Hunter's Potts model package\n",
    "from potts import Potts\n",
    "\n",
    "# this is how we load Potts models from CCMpred\n",
    "from pycameox.optimization import load_ccmpred\n",
    "\n",
    "\n",
    "# This is a bunch of useful dictionaries\n",
    "# aa_to_i is the numerical encoding of amino acids\n",
    "# i_to_aa is the reverse\n",
    "from pycameox.optimization import (AA_TO_I as aa_to_i, I_TO_AA as i_to_aa,\n",
    "                                   CODON_TABLE as codon_table)\n",
    "\n",
    "\n",
    "# this function is used to create a reduced Potts model where certain residues are fixed\n",
    "# this is done in order to optimize smaller sub-problems\n",
    "from potts.potts import get_subset_potts_optimized\n",
    "\n",
    "# toulbar2 is the program that does the ILP optimization\n",
    "# LG is the file format for toulbar2\n",
    "from potts.optimize import potts_to_LG_file, run_toulbar2"
   ]
  },
  {
   "cell_type": "code",
   "execution_count": 3,
   "id": "f912233a",
   "metadata": {
    "collapsed": false
   },
   "outputs": [],
   "source": [
    "# Create numerical encoding of codons\n",
    "bases = [l.upper() for l in 'tcag']\n",
    "codons = [a + b + c for a in bases for b in bases for c in bases]\n",
    "# 'XXX' is used to represent a gap \n",
    "codon_to_i = {c: i for i, c in enumerate(codons + ['XXX'])}\n",
    "i_to_codon = {i: c for c, i in codon_to_i.items()}"
   ]
  },
  {
   "cell_type": "code",
   "execution_count": 8,
   "id": "d32e7a23",
   "metadata": {
    "collapsed": false
   },
   "outputs": [
    {
     "name": "stdout",
     "output_type": "stream",
     "text": [
      "INFO: WT seq APLL for aroB_pf5_uref100 is -230.69763\n",
      "INFO: WT seq APLL for infA_pf5_uref100 is -56.842094\n"
     ]
    }
   ],
   "source": [
    "# REPLACE WITH YOUR PATH \n",
    "run_dir = Path(\n",
    "    '/home/hunter/projects/recombination/structure_potts/cameos/cameos_runs/run_orig_012324'\n",
    ")\n",
    "# large and small genes\n",
    "PROTa = 'aroB_pf5_uref100'\n",
    "PROTb = 'infA_pf5_uref100'\n",
    "\n",
    "PROTabP1 = PROTa + '_' + PROTb + '_p1'\n",
    "PATH = Path(run_dir, 'output', PROTabP1)\n",
    "metadata = pd.read_csv(PATH / Path('CAMEOX_metadata').with_suffix('.csv'),\n",
    "                       sep=',',\n",
    "                       header=0)\n",
    "\n",
    "#Let's print out what CAMEOX thinks the WT PLLs are so we can compare with our model\n",
    "wt_protA_psl = -np.mean(metadata['mark_wt_apll'])\n",
    "print(f'INFO: WT seq APLL for {PROTa} is {wt_protA_psl}')\n",
    "wt_protB_psl = -np.mean(metadata['deg_wt_apll'])\n",
    "print(f'INFO: WT seq APLL for {PROTb} is {wt_protB_psl}')\n"
   ]
  },
  {
   "cell_type": "code",
   "execution_count": 9,
   "id": "68a39c9a",
   "metadata": {
    "collapsed": false
   },
   "outputs": [],
   "source": [
    "#Now let's load the CCMpred models\n",
    "run_dir = Path('/home/hunter/projects/cameos/')\n",
    "ccmpred_fn_infA = (run_dir / PROTb / Path(PROTb).with_suffix('.raw'))\n",
    "model_small = load_ccmpred(ccmpred_fn_infA).cpu()\n",
    "\n",
    "ccmpred_fn_aroB = (run_dir / PROTa / Path(PROTa).with_suffix('.raw'))\n",
    "model_large = load_ccmpred(ccmpred_fn_aroB).cpu()"
   ]
  },
  {
   "cell_type": "code",
   "execution_count": null,
   "id": "df2b6e82",
   "metadata": {
    "collapsed": false
   },
   "outputs": [],
   "source": []
  },
  {
   "cell_type": "code",
   "execution_count": 14,
   "id": "47144999",
   "metadata": {
    "collapsed": false
   },
   "outputs": [
    {
     "data": {
      "text/plain": [
       "-230.6875"
      ]
     },
     "execution_count": 14,
     "metadata": {},
     "output_type": "execute_result"
    }
   ],
   "source": [
    "aroB_seq = ['MQTLKVDLGERSYPIHIGEGLLDQPELLAPHIAGRQVAIISNETVAPLYLERLNRSLAAYSVISVILPDGEAHKNWETLQLIFDGLLTARHDRRTTVIALGGGVIGDMAGFAAACYQRGVDFIQVPTTLLSQVDSSVGGKTGINHPLGKNMVGAFYQPQAVLIDTATLNTLPPRELSAGLAEVIKYGLICDEPFLTWLEEHVDALRNLDQVALTEAISRSCAAKALVVNADERESGVRATLNLGHTFGHAIETHMGYGVWLHGEAVAAGTVMALDMSQRLGWISAQERDRGIRLFQRAGLPVIPPEEMTEADFLEHMAIDKKVIDGRLRLVLLRHMGEAVVTDDYPKEILQATLGADYRALAQLKG']\n",
    "# numerically encode aroB\n",
    "aroB_enc = torch.tensor([[aa_to_i[aa] for aa in s] for s in aroB_seq])\n",
    "# one-hot-encode encode aroB\n",
    "aroB_oh = torch.nn.functional.one_hot(aroB_enc, num_classes=21).to(torch.float)\n",
    "with torch.no_grad():\n",
    "    # compute pseudo log-likelihood\n",
    "    aroB_wt_pll = model_large.pseudolikelihood(aroB_oh)\n",
    "    # compute energy (negative unnormalized log likelihood)\n",
    "    aroB_energy = model_large(aroB_oh)\n",
    "aroB_wt_pll.item()"
   ]
  },
  {
   "cell_type": "code",
   "execution_count": 18,
   "id": "7ffcf1fa",
   "metadata": {
    "collapsed": false
   },
   "outputs": [
    {
     "data": {
      "text/plain": [
       "-56.77409744262695"
      ]
     },
     "execution_count": 18,
     "metadata": {},
     "output_type": "execute_result"
    }
   ],
   "source": [
    "infA_seq = ['MSKEDSFEMEGTVVDTLPNTMFRVELENGHVVTAHISGKMRKNYIRILTGDKVRVELTPYDLSKGRITYRAR']\n",
    "# numerically encode infA\n",
    "infA_enc = torch.tensor([[aa_to_i[aa] for aa in s] for s in infA_seq])\n",
    "# one-hot-encode encode infA\n",
    "infA_oh = torch.nn.functional.one_hot(infA_enc, num_classes=21).to(torch.float)\n",
    "with torch.no_grad():\n",
    "    # compute pseudo log-likelihood\n",
    "    infA_wt_pll = model_small.pseudolikelihood(infA_oh)\n",
    "    # compute energy (negative unnormalized log likelihood)\n",
    "    infA_energy = model_small(infA_oh)\n",
    "infA_wt_pll.item()"
   ]
  },
  {
   "cell_type": "markdown",
   "id": "1caba222",
   "metadata": {
    "collapsed": false
   },
   "source": [
    "There is some numerical difference between our calculated pLLs and the CAMEOX reported ones. \n",
    "\n",
    "However, below we can compare a scatter plot of our calculated pLLs and CAMEOX across many sequences\n",
    "and see that this just appears to be small numerical precision issues. "
   ]
  },
  {
   "cell_type": "code",
   "execution_count": 34,
   "id": "63b2a441",
   "metadata": {
    "collapsed": false
   },
   "outputs": [],
   "source": [
    "# read in CAMEOX results\n",
    "df = pd.read_csv('/home/hunter/projects/recombination/structure_potts/cameos/cameos_runs/run_orig_012324/output/aroB_pf5_uref100_infA_pf5_uref100_p1/summary_5IDEtgbS.csv')\n",
    "aroB_pll_cameox = df.aroB_pf5_uref100_psls.values\n",
    "aroB_seqs_cameox = df.aroB_pf5_uref100_seq.values\n",
    "with torch.no_grad():\n",
    "    # one-hot-encode\n",
    "    X = torch.nn.functional.one_hot(torch.tensor([[aa_to_i[aa] for aa in s] for s in aroB_seqs_cameox]), num_classes=21).float()\n",
    "    plls_hunter = model_large.pseudolikelihood(X).numpy()\n"
   ]
  },
  {
   "cell_type": "code",
   "execution_count": 35,
   "id": "02107c5e",
   "metadata": {
    "collapsed": false
   },
   "outputs": [
    {
     "data": {
      "text/plain": [
       "[Text(0.5, 0, 'pLLs python'), Text(0, 0.5, 'pLLs cameox')]"
      ]
     },
     "execution_count": 35,
     "metadata": {},
     "output_type": "execute_result"
    },
    {
     "data": {
      "image/png": "[encoded data removed]",
      "text/plain": [
       "<Figure size 640x480 with 1 Axes>"
      ]
     },
     "metadata": {},
     "output_type": "display_data"
    }
   ],
   "source": [
    "fig, ax = plt.subplots()\n",
    "ax.scatter(plls_hunter, -aroB_pll_cameox)\n",
    "ax.set(xlabel=\"pLLs python\", ylabel=\"pLLs cameox\")"
   ]
  },
  {
   "cell_type": "code",
   "execution_count": null,
   "id": "b0ecd3dd",
   "metadata": {
    "collapsed": false
   },
   "outputs": [],
   "source": []
  }
 ],
 "metadata": {
  "kernelspec": {
   "argv": [
    "/data/mambaforge/envs/pytorch_hunter/bin/python",
    "-m",
    "ipykernel_launcher",
    "-f",
    "{connection_file}"
   ],
   "display_name": "Python 3 (ipykernel)",
   "env": null,
   "interrupt_mode": "signal",
   "language": "python",
   "metadata": {
    "debugger": true
   },
   "name": "python3"
  },
  "name": "Intro_to_Python_Cameos.ipynb"
 },
 "nbformat": 4,
 "nbformat_minor": 5
}
